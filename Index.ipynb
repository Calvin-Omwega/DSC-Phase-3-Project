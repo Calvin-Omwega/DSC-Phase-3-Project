{
 "cells": [
  {
   "cell_type": "markdown",
   "metadata": {},
   "source": [
    "# DSC-Phase-3-Project"
   ]
  },
  {
   "cell_type": "markdown",
   "metadata": {},
   "source": [
    "## Tanzanian Water Wells \n",
    "# Project Overview"
   ]
  },
  {
   "cell_type": "markdown",
   "metadata": {},
   "source": [
    "The Water Pump Status Prediction project is designed to assist a variety of stakeholders involved in the management, maintenance, and provision of water resources in Tanzania. The primary audience includes: \n",
    "Government Agencies: Tanzanian Ministry of Water and other local governmental bodies responsible for water resource management.\n",
    "Non-Governmental Organizations (NGOs): Organizations focused on improving water accessibility and quality in developing regions.\n",
    "Funding Bodies: International donors and financial institutions providing funds for water infrastructure projects."
   ]
  },
  {
   "cell_type": "markdown",
   "metadata": {},
   "source": [
    "# Business Understanding"
   ]
  },
  {
   "cell_type": "markdown",
   "metadata": {},
   "source": [
    "Challenges\n",
    "\n",
    "Unreliable Water Supply: Ensuring a consistent and reliable supply of clean water to communities, which is critical for health, agriculture, and daily living.\n",
    "\n",
    "Maintenance Prioritization: Deciding which water pumps need immediate attention and repairs to maximize the impact of limited maintenance resources.\n",
    "\n",
    "Resource Allocation: Balancing the allocation of financial and human resources to maintain and repair water pumps without overspending or neglecting critical areas.\n",
    "\n",
    "Community Impact: Understanding and mitigating the impact of non-functional water pumps on the local communities that depend on them for their daily water needs.\n",
    "\n",
    "Data Utilization: Leveraging existing data effectively to make informed decisions about water pump maintenance and management without over-reliance on manual inspections."
   ]
  },
  {
   "cell_type": "markdown",
   "metadata": {},
   "source": [
    "# Business Objectives"
   ]
  },
  {
   "cell_type": "markdown",
   "metadata": {},
   "source": [
    "Enhance Predictive Maintenance: Utilize predictive analytics to identify water pumps at risk of failure and prioritize their maintenance to prevent breakdowns.\n",
    "\n",
    "Optimize Resource Allocation: Improve the allocation of maintenance resources by targeting pumps that are more likely to fail, thus reducing downtime and repair costs.\n",
    "\n",
    "Ensure Water Availability: Increase the reliability of water supply in Tanzanian communities by maintaining a higher percentage of functional water pumps.\n",
    "\n",
    "Support Decision Making: Provide actionable insights to government agencies, NGOs, and community leaders to make informed decisions regarding water pump maintenance and infrastructure investments."
   ]
  },
  {
   "cell_type": "markdown",
   "metadata": {},
   "source": [
    "# Key Questions"
   ]
  },
  {
   "cell_type": "markdown",
   "metadata": {},
   "source": [
    "Which water pumps are currently functional?\n",
    "\n",
    "Which water pumps need repairs?\n",
    "\n",
    "Which water pumps are non-functional?\n",
    "\n",
    "How can maintenance operations be optimized based on the predictive model's insights?\n",
    "\n",
    "What is the expected reliability and accuracy of the predictive model in real-world scenarios?\n",
    "\n",
    "How can the predictive model be integrated into the existing maintenance workflow for water pumps?"
   ]
  },
  {
   "cell_type": "markdown",
   "metadata": {},
   "source": [
    "### Data used\n",
    "\n",
    "Test set values csv \n",
    "\n",
    "Training set Lables csv\n",
    "\n",
    "Training set set Values csv"
   ]
  },
  {
   "cell_type": "markdown",
   "metadata": {},
   "source": [
    "# Data processing\n"
   ]
  },
  {
   "cell_type": "markdown",
   "metadata": {},
   "source": [
    "### Importing neccessary libraries "
   ]
  },
  {
   "cell_type": "code",
   "execution_count": 1,
   "metadata": {},
   "outputs": [],
   "source": [
    "import pandas as pd"
   ]
  },
  {
   "cell_type": "code",
   "execution_count": 2,
   "metadata": {},
   "outputs": [],
   "source": [
    "# Load datasets\n",
    "train_values = pd.read_csv('Training set Values.csv')\n",
    "train_labels = pd.read_csv('Training set Lables.csv')\n",
    "test_values = pd.read_csv('Test set values.csv')"
   ]
  },
  {
   "cell_type": "code",
   "execution_count": 3,
   "metadata": {},
   "outputs": [
    {
     "data": {
      "text/plain": [
       "(      id  amount_tsh date_recorded        funder  gps_height     installer  \\\n",
       " 0  69572      6000.0    2011-03-14         Roman        1390         Roman   \n",
       " 1   8776         0.0    2013-03-06       Grumeti        1399       GRUMETI   \n",
       " 2  34310        25.0    2013-02-25  Lottery Club         686  World vision   \n",
       " 3  67743         0.0    2013-01-28        Unicef         263        UNICEF   \n",
       " 4  19728         0.0    2011-07-13   Action In A           0       Artisan   \n",
       " \n",
       "    longitude   latitude              wpt_name  num_private  ... payment_type  \\\n",
       " 0  34.938093  -9.856322                  none            0  ...     annually   \n",
       " 1  34.698766  -2.147466              Zahanati            0  ...    never pay   \n",
       " 2  37.460664  -3.821329           Kwa Mahundi            0  ...   per bucket   \n",
       " 3  38.486161 -11.155298  Zahanati Ya Nanyumbu            0  ...    never pay   \n",
       " 4  31.130847  -1.825359               Shuleni            0  ...    never pay   \n",
       " \n",
       "   water_quality quality_group      quantity  quantity_group  \\\n",
       " 0          soft          good        enough          enough   \n",
       " 1          soft          good  insufficient    insufficient   \n",
       " 2          soft          good        enough          enough   \n",
       " 3          soft          good           dry             dry   \n",
       " 4          soft          good      seasonal        seasonal   \n",
       " \n",
       "                  source           source_type  source_class  \\\n",
       " 0                spring                spring   groundwater   \n",
       " 1  rainwater harvesting  rainwater harvesting       surface   \n",
       " 2                   dam                   dam       surface   \n",
       " 3           machine dbh              borehole   groundwater   \n",
       " 4  rainwater harvesting  rainwater harvesting       surface   \n",
       " \n",
       "                waterpoint_type waterpoint_type_group  \n",
       " 0           communal standpipe    communal standpipe  \n",
       " 1           communal standpipe    communal standpipe  \n",
       " 2  communal standpipe multiple    communal standpipe  \n",
       " 3  communal standpipe multiple    communal standpipe  \n",
       " 4           communal standpipe    communal standpipe  \n",
       " \n",
       " [5 rows x 40 columns],\n",
       "       id    status_group\n",
       " 0  69572      functional\n",
       " 1   8776      functional\n",
       " 2  34310      functional\n",
       " 3  67743  non functional\n",
       " 4  19728      functional,\n",
       "       id  amount_tsh date_recorded                  funder  gps_height  \\\n",
       " 0  50785         0.0    2013-02-04                    Dmdd        1996   \n",
       " 1  51630         0.0    2013-02-04  Government Of Tanzania        1569   \n",
       " 2  17168         0.0    2013-02-01                     NaN        1567   \n",
       " 3  45559         0.0    2013-01-22              Finn Water         267   \n",
       " 4  49871       500.0    2013-03-27                  Bruder        1260   \n",
       " \n",
       "     installer  longitude   latitude                 wpt_name  num_private  \\\n",
       " 0        DMDD  35.290799  -4.059696  Dinamu Secondary School            0   \n",
       " 1         DWE  36.656709  -3.309214                  Kimnyak            0   \n",
       " 2         NaN  34.767863  -5.004344           Puma Secondary            0   \n",
       " 3  FINN WATER  38.058046  -9.418672           Kwa Mzee Pange            0   \n",
       " 4      BRUDER  35.006123 -10.950412          Kwa Mzee Turuka            0   \n",
       " \n",
       "    ... payment_type water_quality quality_group      quantity  quantity_group  \\\n",
       " 0  ...    never pay          soft          good      seasonal        seasonal   \n",
       " 1  ...    never pay          soft          good  insufficient    insufficient   \n",
       " 2  ...    never pay          soft          good  insufficient    insufficient   \n",
       " 3  ...      unknown          soft          good           dry             dry   \n",
       " 4  ...      monthly          soft          good        enough          enough   \n",
       " \n",
       "                  source           source_type  source_class  \\\n",
       " 0  rainwater harvesting  rainwater harvesting       surface   \n",
       " 1                spring                spring   groundwater   \n",
       " 2  rainwater harvesting  rainwater harvesting       surface   \n",
       " 3          shallow well          shallow well   groundwater   \n",
       " 4                spring                spring   groundwater   \n",
       " \n",
       "       waterpoint_type waterpoint_type_group  \n",
       " 0               other                 other  \n",
       " 1  communal standpipe    communal standpipe  \n",
       " 2               other                 other  \n",
       " 3               other                 other  \n",
       " 4  communal standpipe    communal standpipe  \n",
       " \n",
       " [5 rows x 40 columns])"
      ]
     },
     "execution_count": 3,
     "metadata": {},
     "output_type": "execute_result"
    }
   ],
   "source": [
    "# Display the first few rows of each dataset\n",
    "train_values.head(), train_labels.head(), test_values.head()"
   ]
  },
  {
   "cell_type": "markdown",
   "metadata": {},
   "source": []
  }
 ],
 "metadata": {
  "kernelspec": {
   "display_name": "learn-env",
   "language": "python",
   "name": "python3"
  },
  "language_info": {
   "codemirror_mode": {
    "name": "ipython",
    "version": 3
   },
   "file_extension": ".py",
   "mimetype": "text/x-python",
   "name": "python",
   "nbconvert_exporter": "python",
   "pygments_lexer": "ipython3",
   "version": "3.8.5"
  }
 },
 "nbformat": 4,
 "nbformat_minor": 2
}
